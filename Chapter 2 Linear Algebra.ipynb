{
 "cells": [
  {
   "cell_type": "code",
   "execution_count": 2,
   "metadata": {},
   "outputs": [],
   "source": [
    "import numpy as np"
   ]
  },
  {
   "cell_type": "markdown",
   "metadata": {},
   "source": [
    "2.1 Scalars, Vectors, Matrices and Tensors"
   ]
  },
  {
   "cell_type": "code",
   "execution_count": 2,
   "metadata": {},
   "outputs": [
    {
     "name": "stdout",
     "output_type": "stream",
     "text": [
      "[[1 2 3]\n",
      " [4 5 6]\n",
      " [7 8 9]]\n"
     ]
    }
   ],
   "source": [
    "#행렬 생성\n",
    "data = [[1,2,3],[4,5,6],[7,8,9]]\n",
    "arr = np.array(data)\n",
    "print(arr)"
   ]
  },
  {
   "cell_type": "code",
   "execution_count": 3,
   "metadata": {},
   "outputs": [
    {
     "data": {
      "text/plain": [
       "2"
      ]
     },
     "execution_count": 3,
     "metadata": {},
     "output_type": "execute_result"
    }
   ],
   "source": [
    "arr.ndim"
   ]
  },
  {
   "cell_type": "code",
   "execution_count": 4,
   "metadata": {},
   "outputs": [
    {
     "data": {
      "text/plain": [
       "(3, 3)"
      ]
     },
     "execution_count": 4,
     "metadata": {},
     "output_type": "execute_result"
    }
   ],
   "source": [
    "arr.shape"
   ]
  },
  {
   "cell_type": "code",
   "execution_count": 5,
   "metadata": {},
   "outputs": [
    {
     "name": "stdout",
     "output_type": "stream",
     "text": [
      "[[1 4 7]\n",
      " [2 5 8]\n",
      " [3 6 9]]\n"
     ]
    }
   ],
   "source": [
    "#전치행렬(transpose)\n",
    "print(arr.T)"
   ]
  },
  {
   "cell_type": "code",
   "execution_count": 8,
   "metadata": {},
   "outputs": [
    {
     "name": "stdout",
     "output_type": "stream",
     "text": [
      "[[1. 1. 1.]\n",
      " [1. 1. 1.]\n",
      " [1. 1. 1.]]\n",
      "[[ 2.  3.  4.]\n",
      " [ 5.  6.  7.]\n",
      " [ 8.  9. 10.]]\n"
     ]
    }
   ],
   "source": [
    "#행렬 덧셈\n",
    "arr2 = np.ones((3,3))\n",
    "print(arr2)\n",
    "print(arr+arr2)"
   ]
  },
  {
   "cell_type": "markdown",
   "metadata": {},
   "source": [
    "2.2 Multiplying Matrices and Vectors"
   ]
  },
  {
   "cell_type": "code",
   "execution_count": 9,
   "metadata": {},
   "outputs": [
    {
     "data": {
      "text/plain": [
       "array([[ 1,  4,  9],\n",
       "       [16, 25, 36]])"
      ]
     },
     "execution_count": 9,
     "metadata": {},
     "output_type": "execute_result"
    }
   ],
   "source": [
    "#아다마르 곱(Hadamard product)\n",
    "arr = np.array([[1,2,3],[4,5,6]])\n",
    "arr * arr"
   ]
  },
  {
   "cell_type": "code",
   "execution_count": 11,
   "metadata": {},
   "outputs": [
    {
     "name": "stdout",
     "output_type": "stream",
     "text": [
      "[[1 2 3]\n",
      " [4 5 6]]\n",
      "[[ 6 23]\n",
      " [-1  7]\n",
      " [ 8  9]]\n"
     ]
    }
   ],
   "source": [
    "# 행렬 곱(multiplication)\n",
    "x = np.array([[1,2,3],[4,5,6]])\n",
    "y = np.array([[6,23],[-1,7],[8,9]])\n",
    "print(x)\n",
    "print(y)"
   ]
  },
  {
   "cell_type": "code",
   "execution_count": 12,
   "metadata": {},
   "outputs": [
    {
     "ename": "ValueError",
     "evalue": "operands could not be broadcast together with shapes (2,3) (3,2) ",
     "output_type": "error",
     "traceback": [
      "\u001b[1;31m---------------------------------------------------------------------------\u001b[0m",
      "\u001b[1;31mValueError\u001b[0m                                Traceback (most recent call last)",
      "\u001b[1;32m<ipython-input-12-7a2c1caf0dad>\u001b[0m in \u001b[0;36m<module>\u001b[1;34m\u001b[0m\n\u001b[1;32m----> 1\u001b[1;33m \u001b[0mx\u001b[0m\u001b[1;33m*\u001b[0m\u001b[0my\u001b[0m\u001b[1;33m\u001b[0m\u001b[1;33m\u001b[0m\u001b[0m\n\u001b[0m",
      "\u001b[1;31mValueError\u001b[0m: operands could not be broadcast together with shapes (2,3) (3,2) "
     ]
    }
   ],
   "source": [
    "x*y"
   ]
  },
  {
   "cell_type": "code",
   "execution_count": 13,
   "metadata": {},
   "outputs": [
    {
     "data": {
      "text/plain": [
       "array([[ 28,  64],\n",
       "       [ 67, 181]])"
      ]
     },
     "execution_count": 13,
     "metadata": {},
     "output_type": "execute_result"
    }
   ],
   "source": [
    "np.dot(x,y)"
   ]
  },
  {
   "cell_type": "code",
   "execution_count": 14,
   "metadata": {},
   "outputs": [
    {
     "data": {
      "text/plain": [
       "array([[ 28,  64],\n",
       "       [ 67, 181]])"
      ]
     },
     "execution_count": 14,
     "metadata": {},
     "output_type": "execute_result"
    }
   ],
   "source": [
    "x.dot(y)"
   ]
  },
  {
   "cell_type": "markdown",
   "metadata": {},
   "source": [
    "2.3 Identity and Inverse Matrices"
   ]
  },
  {
   "cell_type": "code",
   "execution_count": 17,
   "metadata": {},
   "outputs": [
    {
     "name": "stdout",
     "output_type": "stream",
     "text": [
      "[[-0.5        -0.125       0.29166667]\n",
      " [ 1.5         0.625      -0.45833333]\n",
      " [-1.         -0.25        0.25      ]]\n",
      "[[1. 0. 0.]\n",
      " [0. 1. 0.]\n",
      " [0. 0. 1.]]\n"
     ]
    }
   ],
   "source": [
    "A = np.array([[1,-1,-3],[2,4,5],[6,0,-3]])\n",
    "B = np.linalg.inv(A)\n",
    "print(B)\n",
    "print(np.dot(A,B))"
   ]
  },
  {
   "cell_type": "markdown",
   "metadata": {},
   "source": [
    "2.4 Linear Dependence and Span"
   ]
  },
  {
   "cell_type": "markdown",
   "metadata": {},
   "source": [
    "2.5 Norms"
   ]
  },
  {
   "cell_type": "code",
   "execution_count": 3,
   "metadata": {},
   "outputs": [
    {
     "name": "stdout",
     "output_type": "stream",
     "text": [
      "[-4 -3 -2 -1  0  1  2  3  4]\n",
      "[[-4 -3 -2]\n",
      " [-1  0  1]\n",
      " [ 2  3  4]]\n",
      "7.745966692414834\n",
      "7.745966692414834\n",
      "7.745966692414834\n",
      "4.0\n",
      "9.0\n",
      "7.0\n"
     ]
    }
   ],
   "source": [
    "a = np.arange(9) - 4\n",
    "b = a.reshape((3, 3))\n",
    "print(a)\n",
    "print(b)\n",
    "#Euclidean norm \n",
    "print(np.linalg.norm(a))\n",
    "#Frobenius norm\n",
    "print(np.linalg.norm(b))\n",
    "print(np.linalg.norm(b,'fro'))\n",
    "#max norm\n",
    "print(np.linalg.norm(a, np.inf))\n",
    "print(np.linalg.norm(b, np.inf)) #max(sum(abs(x), axis=1))\n",
    "print(np.linalg.norm(b, 1)) #max(sum(abs(x), axis=0))"
   ]
  },
  {
   "cell_type": "markdown",
   "metadata": {},
   "source": [
    "2.6 Special Kinds of Matrices and Vectors"
   ]
  },
  {
   "cell_type": "code",
   "execution_count": 19,
   "metadata": {},
   "outputs": [
    {
     "name": "stdout",
     "output_type": "stream",
     "text": [
      "[[ 0.33333333  0.66666667 -0.66666667]\n",
      " [-0.66666667  0.66666667  0.33333333]\n",
      " [ 0.66666667  0.33333333  0.66666667]]\n",
      "[[ 1.00000000e+00  1.54197642e-17 -2.46716228e-17]\n",
      " [ 1.54197642e-17  1.00000000e+00 -1.23358114e-17]\n",
      " [-2.46716228e-17 -1.23358114e-17  1.00000000e+00]]\n",
      "[[ 1.00000000e+00 -1.54197642e-17  2.46716228e-17]\n",
      " [-1.54197642e-17  1.00000000e+00 -1.23358114e-17]\n",
      " [ 2.46716228e-17 -1.23358114e-17  1.00000000e+00]]\n"
     ]
    }
   ],
   "source": [
    "#orthonormal = orthogonal + unitnorm\n",
    "# A.T.dot(A) = A.dot(A.T) = I\n",
    "A = np.array([[1/3, 2/3, -2/3],[-2/3, 2/3, 1/3],[2/3, 1/3, 2/3]])\n",
    "print(A)\n",
    "print(A.T.dot(A))\n",
    "print(A.dot(A.T))"
   ]
  },
  {
   "cell_type": "markdown",
   "metadata": {},
   "source": [
    "2.7 Eigendecomposition"
   ]
  },
  {
   "cell_type": "code",
   "execution_count": 21,
   "metadata": {},
   "outputs": [
    {
     "data": {
      "text/plain": [
       "(array([6., 2.]),\n",
       " array([[ 0.70710678, -0.31622777],\n",
       "        [ 0.70710678,  0.9486833 ]]))"
      ]
     },
     "execution_count": 21,
     "metadata": {},
     "output_type": "execute_result"
    }
   ],
   "source": [
    "# 대각화(eigendecomposition)\n",
    "# A = V.dot(lambdas).dot(V_inv)\n",
    "A = np.array([[5,1],[3,3]])\n",
    "np.linalg.eig(A)"
   ]
  },
  {
   "cell_type": "code",
   "execution_count": 22,
   "metadata": {},
   "outputs": [
    {
     "data": {
      "text/plain": [
       "array([[4.99999999, 1.00000001],\n",
       "       [2.99999999, 3.00000001]])"
      ]
     },
     "execution_count": 22,
     "metadata": {},
     "output_type": "execute_result"
    }
   ],
   "source": [
    "lambdas = np.diag([6., 2.])\n",
    "V = np.array([[ 0.70710678, -0.31622777],\n",
    "        [ 0.70710678,  0.9486833 ]])\n",
    "V_inv = np.linalg.inv(V)\n",
    "V.dot(lambdas).dot(V_inv)"
   ]
  },
  {
   "cell_type": "markdown",
   "metadata": {},
   "source": [
    "2.8 Singluar Value Decomposition"
   ]
  },
  {
   "cell_type": "code",
   "execution_count": 34,
   "metadata": {},
   "outputs": [
    {
     "name": "stdout",
     "output_type": "stream",
     "text": [
      "[[7 2]\n",
      " [3 4]\n",
      " [5 3]]\n",
      "[[-0.69366543  0.59343205 -0.40824829]\n",
      " [-0.4427092  -0.79833696 -0.40824829]\n",
      " [-0.56818732 -0.10245245  0.81649658]]\n",
      "[10.25142677  2.62835484]\n",
      "[[-0.88033817 -0.47434662]\n",
      " [ 0.47434662 -0.88033817]]\n",
      "[[7. 2.]\n",
      " [3. 4.]\n",
      " [5. 3.]]\n"
     ]
    }
   ],
   "source": [
    "A = np.array([[7, 2], [3, 4], [5, 3]])\n",
    "print(A)\n",
    "U, D, V = np.linalg.svd(A)\n",
    "print(U)\n",
    "print(D)\n",
    "print(V)\n",
    "print(np.dot(U[:, :2] * D, V))"
   ]
  },
  {
   "cell_type": "markdown",
   "metadata": {},
   "source": [
    "2.9 The Moore-Penrose Pseudoinverse"
   ]
  },
  {
   "cell_type": "code",
   "execution_count": 42,
   "metadata": {},
   "outputs": [
    {
     "name": "stdout",
     "output_type": "stream",
     "text": [
      "[[7 2]\n",
      " [3 4]\n",
      " [5 3]]\n",
      "[[7. 2.]\n",
      " [3. 4.]\n",
      " [5. 3.]]\n"
     ]
    }
   ],
   "source": [
    "A = np.array([[7, 2], [3, 4], [5, 3]])\n",
    "B = np.linalg.pinv(A)\n",
    "print(A)\n",
    "print(A.dot(B).dot(A))"
   ]
  },
  {
   "cell_type": "markdown",
   "metadata": {},
   "source": [
    "2.10 The Trace Operator"
   ]
  },
  {
   "cell_type": "code",
   "execution_count": 48,
   "metadata": {},
   "outputs": [
    {
     "name": "stdout",
     "output_type": "stream",
     "text": [
      "6\n"
     ]
    },
    {
     "data": {
      "text/plain": [
       "True"
      ]
     },
     "execution_count": 48,
     "metadata": {},
     "output_type": "execute_result"
    }
   ],
   "source": [
    "x = np.array([[1,2,3],[4,5,6]])\n",
    "y = np.array([[6,23],[-1,7],[8,9]])\n",
    "print(np.trace(x))\n",
    "np.trace(x.dot(y)) == np.trace(y.dot(x))"
   ]
  }
 ],
 "metadata": {
  "kernelspec": {
   "display_name": "Python 3",
   "language": "python",
   "name": "python3"
  },
  "language_info": {
   "codemirror_mode": {
    "name": "ipython",
    "version": 3
   },
   "file_extension": ".py",
   "mimetype": "text/x-python",
   "name": "python",
   "nbconvert_exporter": "python",
   "pygments_lexer": "ipython3",
   "version": "3.8.5"
  }
 },
 "nbformat": 4,
 "nbformat_minor": 4
}
